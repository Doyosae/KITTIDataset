{
 "metadata": {
  "language_info": {
   "codemirror_mode": {
    "name": "ipython",
    "version": 3
   },
   "file_extension": ".py",
   "mimetype": "text/x-python",
   "name": "python",
   "nbconvert_exporter": "python",
   "pygments_lexer": "ipython3",
   "version": "3.8.5"
  },
  "orig_nbformat": 4,
  "kernelspec": {
   "name": "python3",
   "display_name": "Python 3.8.5 64-bit ('Python38')"
  },
  "interpreter": {
   "hash": "ea0e2d8fd73e440997c046f126b497ce4faf12264ffe3dcb55b8dc2bc1cab34a"
  }
 },
 "nbformat": 4,
 "nbformat_minor": 2,
 "cells": [
  {
   "cell_type": "code",
   "execution_count": 35,
   "source": [
    "from model_loader import *\r\n",
    "from model_utility import *\r\n",
    "\r\n",
    "\r\n",
    "for t in [\"train\", \"test\", \"val\"]:\r\n",
    "    filename = readlines(\"./splits/city_watson/{}_files.txt\".format(t))\r\n",
    "    print(len(filename))"
   ],
   "outputs": [
    {
     "output_type": "stream",
     "name": "stdout",
     "text": [
      "69731\n",
      "1525\n",
      "7621\n"
     ]
    }
   ],
   "metadata": {}
  },
  {
   "cell_type": "code",
   "execution_count": 36,
   "source": [
    "for t in [\"train\", \"test\", \"val\"]:\r\n",
    "    filename = readlines(\"./splits/city_watson_full/{}_files.txt\".format(t))\r\n",
    "    print(len(filename))"
   ],
   "outputs": [
    {
     "output_type": "stream",
     "name": "stdout",
     "text": [
      "139462\n",
      "3050\n",
      "15242\n"
     ]
    }
   ],
   "metadata": {}
  }
 ]
}